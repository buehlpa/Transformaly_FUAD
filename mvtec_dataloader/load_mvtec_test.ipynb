{
 "cells": [
  {
   "cell_type": "code",
   "execution_count": null,
   "metadata": {},
   "outputs": [],
   "source": [
    "import torch\n",
    "from torch.utils.data import DataLoader\n",
    "from torchvision import transforms\n",
    "from mvtec_dataloader.mvtec_ad import MVTecAD\n"
   ]
  },
  {
   "cell_type": "code",
   "execution_count": null,
   "metadata": {},
   "outputs": [],
   "source": [
    "\n",
    "\n",
    "def _convert_label(x):\n",
    "    '''\n",
    "    convert anomaly label. 0: normal; 1: anomaly.\n",
    "    :param x (int): class label\n",
    "    :return: 0 or 1\n",
    "    '''\n",
    "    return 0 if x == 0 else 1\n",
    "\n",
    "if __name__ == '__main__':\n",
    "\n",
    "    # define transforms\n",
    "    transform = transforms.Compose([transforms.Resize((300, 300)), transforms.ToTensor()])\n",
    "    target_transform = transforms.Lambda(_convert_label)\n",
    "\n",
    "    # load data\n",
    "\n",
    "    mvtec = MVTecAD('data',\n",
    "                    subset_name='bottle',\n",
    "                    train=True,\n",
    "                    transform=transform,\n",
    "                    mask_transform=transform,\n",
    "                    target_transform=target_transform,\n",
    "                    download=True)\n",
    "\n",
    "    # feed to data loader\n",
    "    data_loader = DataLoader(mvtec,\n",
    "                             batch_size=2,\n",
    "                             shuffle=True,\n",
    "                             num_workers=8,\n",
    "                             pin_memory=True,\n",
    "                             drop_last=True)\n",
    "\n",
    "    # obtain in batch\n",
    "    for idx, (image, mask, target) in enumerate(data_loader):\n",
    "        print(idx, target)"
   ]
  }
 ],
 "metadata": {
  "language_info": {
   "name": "python"
  },
  "orig_nbformat": 4
 },
 "nbformat": 4,
 "nbformat_minor": 2
}
