{
 "cells": [
  {
   "cell_type": "code",
   "execution_count": 1,
   "metadata": {},
   "outputs": [
    {
     "data": {
      "text/plain": [
       "True"
      ]
     },
     "execution_count": 1,
     "metadata": {},
     "output_type": "execute_result"
    }
   ],
   "source": [
    "import torch\n",
    "from torch.utils.data import DataLoader\n",
    "from torchvision import transforms\n",
    "from mvtec_dataloader.mvtec_ad import MVTecAD\n",
    "\n",
    "\n",
    "torch.cuda.is_available()"
   ]
  },
  {
   "cell_type": "code",
   "execution_count": 1,
   "metadata": {},
   "outputs": [
    {
     "ename": "NameError",
     "evalue": "name 'transforms' is not defined",
     "output_type": "error",
     "traceback": [
      "\u001b[0;31m---------------------------------------------------------------------------\u001b[0m",
      "\u001b[0;31mNameError\u001b[0m                                 Traceback (most recent call last)",
      "\u001b[1;32m/home/bule/projects/Transformaly_FUAD/load_mvtec_test.ipynb Cell 2\u001b[0m line \u001b[0;36m<cell line: 10>\u001b[0;34m()\u001b[0m\n\u001b[1;32m      <a href='vscode-notebook-cell://ssh-remote%2Bbule-srv-lab-t-010/home/bule/projects/Transformaly_FUAD/load_mvtec_test.ipynb#W1sdnNjb2RlLXJlbW90ZQ%3D%3D?line=6'>7</a>\u001b[0m     \u001b[39mreturn\u001b[39;00m \u001b[39m0\u001b[39m \u001b[39mif\u001b[39;00m x \u001b[39m==\u001b[39m \u001b[39m0\u001b[39m \u001b[39melse\u001b[39;00m \u001b[39m1\u001b[39m\n\u001b[1;32m      <a href='vscode-notebook-cell://ssh-remote%2Bbule-srv-lab-t-010/home/bule/projects/Transformaly_FUAD/load_mvtec_test.ipynb#W1sdnNjb2RlLXJlbW90ZQ%3D%3D?line=8'>9</a>\u001b[0m \u001b[39m# define transforms\u001b[39;00m\n\u001b[0;32m---> <a href='vscode-notebook-cell://ssh-remote%2Bbule-srv-lab-t-010/home/bule/projects/Transformaly_FUAD/load_mvtec_test.ipynb#W1sdnNjb2RlLXJlbW90ZQ%3D%3D?line=9'>10</a>\u001b[0m transform \u001b[39m=\u001b[39m transforms\u001b[39m.\u001b[39mCompose([transforms\u001b[39m.\u001b[39mResize((\u001b[39m300\u001b[39m, \u001b[39m300\u001b[39m)), transforms\u001b[39m.\u001b[39mToTensor()])\n\u001b[1;32m     <a href='vscode-notebook-cell://ssh-remote%2Bbule-srv-lab-t-010/home/bule/projects/Transformaly_FUAD/load_mvtec_test.ipynb#W1sdnNjb2RlLXJlbW90ZQ%3D%3D?line=10'>11</a>\u001b[0m target_transform \u001b[39m=\u001b[39m transforms\u001b[39m.\u001b[39mLambda(_convert_label)\n\u001b[1;32m     <a href='vscode-notebook-cell://ssh-remote%2Bbule-srv-lab-t-010/home/bule/projects/Transformaly_FUAD/load_mvtec_test.ipynb#W1sdnNjb2RlLXJlbW90ZQ%3D%3D?line=12'>13</a>\u001b[0m \u001b[39m# download fullset\u001b[39;00m\n\u001b[1;32m     <a href='vscode-notebook-cell://ssh-remote%2Bbule-srv-lab-t-010/home/bule/projects/Transformaly_FUAD/load_mvtec_test.ipynb#W1sdnNjb2RlLXJlbW90ZQ%3D%3D?line=13'>14</a>\u001b[0m \n\u001b[1;32m     <a href='vscode-notebook-cell://ssh-remote%2Bbule-srv-lab-t-010/home/bule/projects/Transformaly_FUAD/load_mvtec_test.ipynb#W1sdnNjb2RlLXJlbW90ZQ%3D%3D?line=14'>15</a>\u001b[0m \u001b[39m# load data\u001b[39;00m\n",
      "\u001b[0;31mNameError\u001b[0m: name 'transforms' is not defined"
     ]
    }
   ],
   "source": [
    "\n",
    "def _convert_label(x):\n",
    "    '''\n",
    "    convert anomaly label. 0: normal; 1: anomaly.\n",
    "    :param x (int): class label\n",
    "    :return: 0 or 1\n",
    "    '''\n",
    "    return 0 if x == 0 else 1\n",
    "\n",
    "# define transforms\n",
    "transform = transforms.Compose([transforms.Resize((300, 300)), transforms.ToTensor()])\n",
    "target_transform = transforms.Lambda(_convert_label)\n",
    "\n",
    "# download fullset\n",
    "\n",
    "# load data\n",
    "mvtec = MVTecAD('data',\n",
    "                subset_name='bottle',\n",
    "                train=True,\n",
    "                transform=transform,\n",
    "                mask_transform=transform,\n",
    "                target_transform=target_transform,\n",
    "                download_subsets=True,\n",
    "                download_fullset=True)\n",
    "\n",
    "# feed to data loader\n",
    "data_loader = DataLoader(mvtec,batch_size=2,\n",
    "                            shuffle=True,\n",
    "                            num_workers=8,\n",
    "                            pin_memory=True,\n",
    "                            drop_last=True)\n"
   ]
  },
  {
   "cell_type": "code",
   "execution_count": null,
   "metadata": {},
   "outputs": [],
   "source": [
    "for idx, (image, mask, target) in enumerate(data_loader):\n",
    "    print(idx, target)\n",
    "    print(target[0])\n"
   ]
  }
 ],
 "metadata": {
  "kernelspec": {
   "display_name": "transformalyenv",
   "language": "python",
   "name": "python3"
  },
  "language_info": {
   "codemirror_mode": {
    "name": "ipython",
    "version": 3
   },
   "file_extension": ".py",
   "mimetype": "text/x-python",
   "name": "python",
   "nbconvert_exporter": "python",
   "pygments_lexer": "ipython3",
   "version": "3.9.0"
  },
  "orig_nbformat": 4
 },
 "nbformat": 4,
 "nbformat_minor": 2
}
